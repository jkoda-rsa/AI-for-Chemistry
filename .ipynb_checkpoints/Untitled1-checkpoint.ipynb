{
 "cells": [
  {
   "cell_type": "code",
   "execution_count": 32,
   "id": "338216f6",
   "metadata": {},
   "outputs": [],
   "source": [
    "from sklearn.ensemble import RandomForestRegressor\n",
    "from sklearn.model_selection import train_test_split\n",
    "import pandas as pd\n",
    "import numpy as np\n",
    "from rdkit import Chem\n",
    "import networkx as nx\n",
    "from sklearn.preprocessing import OneHotEncoder\n",
    "from mendeleev import element\n",
    "\n",
    "\n",
    "\n"
   ]
  },
  {
   "cell_type": "code",
   "execution_count": 33,
   "id": "be7a8943",
   "metadata": {},
   "outputs": [],
   "source": [
    "df = pd.read_excel('data/HTL_TABLE.xlsx') \n",
    "smiles_list = df['SMILES'].dropna().tolist() \n",
    "labels = df['PCE (%)'].dropna().tolist()"
   ]
  },
  {
   "cell_type": "code",
   "execution_count": 43,
   "id": "56b0820a",
   "metadata": {},
   "outputs": [],
   "source": [
    "unique_smiles = []\n",
    "unique_labels = []\n",
    "for i, smiles in enumerate(smiles_list):\n",
    "    # Make sure SMILES is a string\n",
    "    if isinstance(smiles, str):\n",
    "        molecule = Chem.MolFromSmiles(smiles)\n",
    "        if molecule is not None:  # Ensures the molecule was created successfully\n",
    "            canonical_smiles = Chem.MolToSmiles(molecule, canonical=True)\n",
    "            if canonical_smiles not in unique_smiles:\n",
    "                unique_smiles.append(canonical_smiles)\n",
    "                unique_labels.append(labels[i])\n",
    "\n",
    "# Step 2, 3, and 4: Create graphs from the unique SMILES strings\n",
    "graphs = []\n",
    "for smiles in unique_smiles:\n",
    "    molecule = Chem.MolFromSmiles(smiles)\n",
    "    atoms = molecule.GetAtoms()\n",
    "    bonds = molecule.GetBonds()\n",
    "\n",
    "    # Create a node for each atom, with additional features\n",
    "    # Create a node for each atom, with additional features\n",
    "    nodes = [(atom.GetIdx(), {'symbol': atom.GetSymbol(), \n",
    "                          'atomic_num': atom.GetAtomicNum(), \n",
    "                          'atomic_mass': atom.GetMass(),\n",
    "                          'num_valence': atom.GetTotalValence(),\n",
    "                          'hybridization': atom.GetHybridization(),\n",
    "                          'in_ring': atom.IsInRing(),\n",
    "                          'degree': molecule.GetAtomWithIdx(atom.GetIdx()).GetDegree(),\n",
    "                          'formal_charge': atom.GetFormalCharge(),\n",
    "                          'num_radical_electrons': atom.GetNumRadicalElectrons(),\n",
    "                          #'electronegativity': atomic_properties[atom.GetSymbol()]['electronegativity'],\n",
    "                          #'group': atomic_properties[atom.GetSymbol()]['group']\n",
    "                         })\n",
    "         for atom in atoms]\n",
    "\n",
    "\n",
    "\n",
    "    # Create an edge for each bond, with additional features\n",
    "    edges = [(bond.GetBeginAtomIdx(), bond.GetEndAtomIdx(), {'bond_type': bond.GetBondType()})\n",
    "             for bond in bonds]\n",
    "\n",
    "    # Create a graph\n",
    "    G = nx.Graph()\n",
    "    G.add_nodes_from(nodes)\n",
    "    G.add_edges_from(edges)\n",
    "    graphs.append(G)"
   ]
  },
  {
   "cell_type": "code",
   "execution_count": 44,
   "id": "7c972051",
   "metadata": {},
   "outputs": [
    {
     "name": "stdout",
     "output_type": "stream",
     "text": [
      "Training score: 0.7623643926124628\n",
      "Test score: 0.2766945822058611\n"
     ]
    }
   ],
   "source": [
    "feature_vectors = [np.bincount([deg for node, deg in G.degree()]) for G in graphs]\n",
    "\n",
    "# Ensure all feature vectors are the same length by padding with zeros\n",
    "max_len = max(len(f) for f in feature_vectors)\n",
    "feature_vectors = [np.pad(f, (0, max_len - len(f))) for f in feature_vectors]\n",
    "\n",
    "features_train, features_test, labels_train, labels_test = train_test_split(feature_vectors, unique_labels, test_size=0.2, random_state=42)\n",
    "\n",
    "# Step 6.1: Feed the feature vectors to a machine learning model\n",
    "model = RandomForestRegressor()\n",
    "model.fit(features_train, labels_train)\n",
    "\n",
    "# Step 7: Evaluate the model\n",
    "print('Training score:', model.score(features_train, labels_train))\n",
    "print('Test score:', model.score(features_test, labels_test))\n"
   ]
  },
  {
   "cell_type": "code",
   "execution_count": 45,
   "id": "a4b133ca",
   "metadata": {},
   "outputs": [
    {
     "name": "stdout",
     "output_type": "stream",
     "text": [
      "Length of unique_smiles: 214\n",
      "Length of feature_vectors: 214\n",
      "Length of unique_labels: 214\n"
     ]
    }
   ],
   "source": [
    "print(f\"Length of unique_smiles: {len(unique_smiles)}\")\n",
    "print(f\"Length of feature_vectors: {len(feature_vectors)}\")\n",
    "print(f\"Length of unique_labels: {len(unique_labels)}\")"
   ]
  },
  {
   "cell_type": "code",
   "execution_count": 48,
   "id": "ff0aeb00",
   "metadata": {},
   "outputs": [],
   "source": [
    "from rdkit.Chem import rdPartialCharges\n",
    "\n",
    "unique_smiles = []\n",
    "unique_labels = []\n",
    "for i, smiles in enumerate(smiles_list):\n",
    "    # Make sure SMILES is a string\n",
    "    if isinstance(smiles, str):\n",
    "        molecule = Chem.MolFromSmiles(smiles)\n",
    "        if molecule is not None:  # Ensures the molecule was created successfully\n",
    "            canonical_smiles = Chem.MolToSmiles(molecule, canonical=True)\n",
    "            if canonical_smiles not in unique_smiles:\n",
    "                unique_smiles.append(canonical_smiles)\n",
    "                unique_labels.append(labels[i])\n",
    "\n",
    "# Step 2, 3, and 4: Create graphs from the unique SMILES strings\n",
    "graphs = []\n",
    "for smiles in unique_smiles:\n",
    "    molecule = Chem.MolFromSmiles(smiles)\n",
    "    atoms = molecule.GetAtoms()\n",
    "    bonds = molecule.GetBonds()\n",
    "\n",
    "    # Compute Gasteiger charges\n",
    "    rdPartialCharges.ComputeGasteigerCharges(molecule)\n",
    "\n",
    "    # Create a node for each atom, with additional features\n",
    "    nodes = [(atom.GetIdx(), {'symbol': atom.GetSymbol(), \n",
    "                              'atomic_num': atom.GetAtomicNum(), \n",
    "                              'atomic_mass': atom.GetMass(),\n",
    "                              'num_valence': atom.GetTotalValence(),\n",
    "                              'hybridization': atom.GetHybridization(),\n",
    "                              'in_ring': atom.IsInRing(),\n",
    "                              'degree': molecule.GetAtomWithIdx(atom.GetIdx()).GetDegree(),\n",
    "                              'formal_charge': atom.GetFormalCharge(),\n",
    "                              'num_radical_electrons': atom.GetNumRadicalElectrons(),\n",
    "                              'aromatic': atom.GetIsAromatic(),\n",
    "                              'chirality': atom.GetChiralTag(),\n",
    "                              'gasteiger_charge': atom.GetProp('_GasteigerCharge'),\n",
    "                              'num_hydrogens': atom.GetTotalNumHs(),\n",
    "                              'isotope': atom.GetIsotope(),\n",
    "                              'explicit_valence': atom.GetExplicitValence(),\n",
    "                              'implicit_valence': atom.GetImplicitValence()})\n",
    "             for atom in atoms]\n",
    "\n",
    "    # Create an edge for each bond, with additional features\n",
    "    edges = [(bond.GetBeginAtomIdx(), bond.GetEndAtomIdx(), \n",
    "              {'bond_type': bond.GetBondType(),\n",
    "               'is_conjugated': bond.GetIsConjugated(),\n",
    "               'bond_dir': bond.GetBondDir(),\n",
    "               'bond_order': bond.GetBondTypeAsDouble(),\n",
    "               'is_in_ring': bond.IsInRing()})\n",
    "             for bond in bonds]\n",
    "\n",
    "    # Create a graph\n",
    "    G = nx.Graph()\n",
    "    G.add_nodes_from(nodes)\n",
    "    G.add_edges_from(edges)\n",
    "    graphs.append(G)\n"
   ]
  },
  {
   "cell_type": "code",
   "execution_count": 52,
   "id": "9eb5b482",
   "metadata": {},
   "outputs": [
    {
     "name": "stdout",
     "output_type": "stream",
     "text": [
      "Training score: 0.7702867061855645\n",
      "Test score: 0.21798079882025534\n"
     ]
    }
   ],
   "source": [
    "feature_vectors = [np.bincount([deg for node, deg in G.degree()]) for G in graphs]\n",
    "\n",
    "# Ensure all feature vectors are the same length by padding with zeros\n",
    "max_len = max(len(f) for f in feature_vectors)\n",
    "feature_vectors = [np.pad(f, (0, max_len - len(f))) for f in feature_vectors]\n",
    "\n",
    "features_train, features_test, labels_train, labels_test = train_test_split(feature_vectors, unique_labels, test_size=0.2, random_state=42)\n",
    "\n",
    "# Step 6.1: Feed the feature vectors to a machine learning model\n",
    "model = RandomForestRegressor()\n",
    "model.fit(features_train, labels_train)\n",
    "\n",
    "# Step 7: Evaluate the model\n",
    "print('Training score:', model.score(features_train, labels_train))\n",
    "print('Test score:', model.score(features_test, labels_test))\n"
   ]
  },
  {
   "cell_type": "code",
   "execution_count": 53,
   "id": "eb130ec8",
   "metadata": {},
   "outputs": [],
   "source": [
    "from sklearn.preprocessing import StandardScaler\n",
    "\n",
    "scaler = StandardScaler()\n",
    "features_train_scaled = scaler.fit_transform(features_train)\n",
    "features_test_scaled = scaler.transform(features_test)\n"
   ]
  },
  {
   "cell_type": "code",
   "execution_count": 54,
   "id": "e9de65c6",
   "metadata": {},
   "outputs": [],
   "source": [
    "from sklearn.decomposition import PCA\n",
    "\n",
    "pca = PCA()\n",
    "features_train_pca = pca.fit_transform(features_train_scaled)\n",
    "features_test_pca = pca.transform(features_test_scaled)\n"
   ]
  },
  {
   "cell_type": "code",
   "execution_count": 55,
   "id": "b2a6695d",
   "metadata": {},
   "outputs": [
    {
     "name": "stdout",
     "output_type": "stream",
     "text": [
      "Explained variance ratio: [0.6263419  0.23743355 0.10236291 0.03386165 0.        ]\n"
     ]
    }
   ],
   "source": [
    "print('Explained variance ratio:', pca.explained_variance_ratio_)\n"
   ]
  },
  {
   "cell_type": "code",
   "execution_count": 56,
   "id": "a8c2c9e9",
   "metadata": {},
   "outputs": [
    {
     "name": "stdout",
     "output_type": "stream",
     "text": [
      "PCA components: [[ 0.          0.53648362  0.53677165  0.59024315  0.27509006]\n",
      " [ 0.          0.14355019 -0.36602414 -0.21433386  0.89413683]\n",
      " [ 0.         -0.77758886  0.51484643  0.07389598  0.3533102 ]\n",
      " [-0.          0.29484611  0.55931715 -0.77473441 -0.00408601]\n",
      " [ 1.          0.          0.          0.          0.        ]]\n"
     ]
    }
   ],
   "source": [
    "print('PCA components:', pca.components_)\n"
   ]
  },
  {
   "cell_type": "code",
   "execution_count": 57,
   "id": "2af54b04",
   "metadata": {},
   "outputs": [
    {
     "name": "stdout",
     "output_type": "stream",
     "text": [
      "Feature 0: 0.0\n",
      "Feature 1: 0.20694600469256652\n",
      "Feature 2: 0.45236637766863563\n",
      "Feature 3: 0.2677090643568007\n",
      "Feature 4: 0.07297855328199725\n"
     ]
    },
    {
     "data": {
      "image/png": "[encoded data removed]",
      "text/plain": [
       "<Figure size 720x360 with 1 Axes>"
      ]
     },
     "metadata": {
      "needs_background": "light"
     },
     "output_type": "display_data"
    }
   ],
   "source": [
    "# After training the Random Forest model\n",
    "importances = model.feature_importances_\n",
    "\n",
    "# You can also print them out directly\n",
    "for i, importance in enumerate(importances):\n",
    "    print(f\"Feature {i}: {importance}\")\n",
    "\n",
    "# Or you can visualize the importance scores\n",
    "import matplotlib.pyplot as plt\n",
    "\n",
    "plt.figure(figsize=(10, 5))\n",
    "plt.title(\"Feature importances\")\n",
    "plt.bar(range(len(importances)), importances, color=\"r\", align=\"center\")\n",
    "plt.xticks(range(len(importances)))\n",
    "plt.xlim([-1, len(importances)])\n",
    "plt.show()\n"
   ]
  },
  {
   "cell_type": "code",
   "execution_count": 38,
   "id": "85baf028",
   "metadata": {},
   "outputs": [
    {
     "name": "stdout",
     "output_type": "stream",
     "text": [
      "Length of unique_smiles: 214\n",
      "Length of feature_vectors: 642\n",
      "Length of unique_labels: 214\n"
     ]
    }
   ],
   "source": [
    "print(f\"Length of unique_smiles: {len(unique_smiles)}\")\n",
    "print(f\"Length of feature_vectors: {len(feature_vectors)}\")\n",
    "print(f\"Length of unique_labels: {len(unique_labels)}\")\n"
   ]
  },
  {
   "cell_type": "code",
   "execution_count": null,
   "id": "631650d8",
   "metadata": {},
   "outputs": [],
   "source": []
  },
  {
   "cell_type": "code",
   "execution_count": null,
   "id": "6482f7f5",
   "metadata": {},
   "outputs": [],
   "source": []
  }
 ],
 "metadata": {
  "kernelspec": {
   "display_name": "Python 3",
   "language": "python",
   "name": "python3"
  },
  "language_info": {
   "codemirror_mode": {
    "name": "ipython",
    "version": 3
   },
   "file_extension": ".py",
   "mimetype": "text/x-python",
   "name": "python",
   "nbconvert_exporter": "python",
   "pygments_lexer": "ipython3",
   "version": "3.9.16"
  }
 },
 "nbformat": 4,
 "nbformat_minor": 5
}
